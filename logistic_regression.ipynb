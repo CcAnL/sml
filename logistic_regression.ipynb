{
 "metadata": {
  "language_info": {
   "codemirror_mode": {
    "name": "ipython",
    "version": 3
   },
   "file_extension": ".py",
   "mimetype": "text/x-python",
   "name": "python",
   "nbconvert_exporter": "python",
   "pygments_lexer": "ipython3",
   "version": "3.8.6"
  },
  "orig_nbformat": 2,
  "kernelspec": {
   "name": "python386jvsc74a57bd0f87c8a67d8b994a65d889c7a711044102da638519b91a20563a585ddc82f8b1b",
   "display_name": "Python 3.8.6 64-bit"
  }
 },
 "nbformat": 4,
 "nbformat_minor": 2,
 "cells": [
  {
   "source": [
    "### import libraries/packages"
   ],
   "cell_type": "markdown",
   "metadata": {}
  },
  {
   "cell_type": "code",
   "execution_count": 1,
   "metadata": {},
   "outputs": [],
   "source": [
    "import pandas as pd\n",
    "import numpy as np\n",
    "import pandas as pd\n",
    "from sklearn.metrics import roc_curve, auc"
   ]
  },
  {
   "source": [
    "### read file"
   ],
   "cell_type": "markdown",
   "metadata": {}
  },
  {
   "cell_type": "code",
   "execution_count": 2,
   "metadata": {
    "tags": []
   },
   "outputs": [],
   "source": [
    "with open(\"data\\\\train.txt\", 'r') as f:\n",
    "    lines = f.read().split('\\n')\n",
    "\n",
    "# lines"
   ]
  },
  {
   "source": [
    "### data processing"
   ],
   "cell_type": "markdown",
   "metadata": {}
  },
  {
   "cell_type": "code",
   "execution_count": 3,
   "metadata": {
    "tags": []
   },
   "outputs": [],
   "source": [
    "# put each line into list\n",
    "train_set = []\n",
    "for x in lines:\n",
    "    train_set.append(x.split(' '))\n",
    "\n",
    "# train_set"
   ]
  },
  {
   "cell_type": "code",
   "execution_count": 4,
   "metadata": {},
   "outputs": [
    {
     "output_type": "execute_result",
     "data": {
      "text/plain": [
       "4092"
      ]
     },
     "metadata": {},
     "execution_count": 4
    }
   ],
   "source": [
    "# find the largest id by flattening the list of list\n",
    "flat_list = []\n",
    "train_set_flattened = []\n",
    "\n",
    "# function to flatten list of list\n",
    "# sourced from https://geekflare.com/flatten-list-python/\n",
    "def flatten_list(data):\n",
    "    # iterating over the data\n",
    "    for element in data:\n",
    "        # checking for list\n",
    "        if type(element) == list:\n",
    "            # calling the same function with current element as new argument\n",
    "            flatten_list(element)\n",
    "        else:\n",
    "            flat_list.append(element)\n",
    "\n",
    "flatten_list(train_set)\n",
    "\n",
    "for x in flat_list[:-1]: # remove the last empty string\n",
    "    train_set_flattened.append(int(x))\n",
    "\n",
    "max_id = max(train_set_flattened)\n",
    "max_id"
   ]
  },
  {
   "cell_type": "code",
   "execution_count": 5,
   "metadata": {},
   "outputs": [
    {
     "output_type": "execute_result",
     "data": {
      "text/plain": [
       "(4093, 4093)"
      ]
     },
     "metadata": {},
     "execution_count": 5
    }
   ],
   "source": [
    "# create a adjacency matrix to store the connections between authors\n",
    "matrix = np.zeros( shape=( (max_id)+1, (max_id)+1 ) )\n",
    "matrix.shape"
   ]
  },
  {
   "cell_type": "code",
   "execution_count": 6,
   "metadata": {},
   "outputs": [],
   "source": [
    "# fill in the matrix, \n",
    "# mark the matrix cell with 1 if there is a connection\n",
    "for row in train_set:\n",
    "    for index, x in enumerate(row):\n",
    "        for y in row[index+1:]:\n",
    "            matrix[int(x)][int(y)] = 1\n",
    "            matrix[int(y)][int(x)] = 1\n",
    "\n",
    "# np.sum(matrix)"
   ]
  },
  {
   "cell_type": "code",
   "execution_count": 7,
   "metadata": {},
   "outputs": [],
   "source": [
    "# see the non-zero amount of connections between authors\n",
    "rows, cols = np.where(matrix>0)\n",
    "values = matrix[rows,cols]\n",
    "positive_edges = list(zip(rows, cols, values.astype(int)))"
   ]
  },
  {
   "cell_type": "code",
   "execution_count": 8,
   "metadata": {},
   "outputs": [],
   "source": [
    "max_edge = max(values)"
   ]
  },
  {
   "cell_type": "code",
   "execution_count": 9,
   "metadata": {},
   "outputs": [],
   "source": [
    "rows, cols = np.where(matrix<1)\n",
    "values = matrix[rows,cols]\n",
    "negative_edges = list(zip(rows, cols, values.astype(int)))"
   ]
  },
  {
   "cell_type": "code",
   "execution_count": 10,
   "metadata": {},
   "outputs": [
    {
     "output_type": "execute_result",
     "data": {
      "text/plain": [
       "32070"
      ]
     },
     "metadata": {},
     "execution_count": 10
    }
   ],
   "source": [
    "len(positive_edges)"
   ]
  },
  {
   "cell_type": "code",
   "execution_count": 11,
   "metadata": {},
   "outputs": [
    {
     "output_type": "execute_result",
     "data": {
      "text/plain": [
       "32070"
      ]
     },
     "metadata": {},
     "execution_count": 11
    }
   ],
   "source": [
    "len(positive_edges)"
   ]
  },
  {
   "cell_type": "code",
   "execution_count": 12,
   "metadata": {},
   "outputs": [
    {
     "output_type": "execute_result",
     "data": {
      "text/plain": [
       "16720579"
      ]
     },
     "metadata": {},
     "execution_count": 12
    }
   ],
   "source": [
    "len(negative_edges)"
   ]
  },
  {
   "source": [
    "unbalanced positive and negative samples\n",
    "\n",
    "try under-sampling\n"
   ],
   "cell_type": "markdown",
   "metadata": {}
  },
  {
   "cell_type": "code",
   "execution_count": 13,
   "metadata": {},
   "outputs": [
    {
     "output_type": "execute_result",
     "data": {
      "text/plain": [
       "32070"
      ]
     },
     "metadata": {},
     "execution_count": 13
    }
   ],
   "source": [
    "np.random.seed(seed=90051)\n",
    "negative_edges_resampled = []\n",
    "for i in range(len(positive_edges)):\n",
    "    negative_edges_resampled.append( negative_edges[np.random.randint(0, len(negative_edges))] )\n",
    "\n",
    "len(negative_edges_resampled)\n"
   ]
  },
  {
   "cell_type": "code",
   "execution_count": 14,
   "metadata": {},
   "outputs": [
    {
     "output_type": "execute_result",
     "data": {
      "text/plain": [
       "64140"
      ]
     },
     "metadata": {},
     "execution_count": 14
    }
   ],
   "source": [
    "edges = positive_edges + negative_edges_resampled\n",
    "len(edges)"
   ]
  },
  {
   "source": [
    "### train test split"
   ],
   "cell_type": "markdown",
   "metadata": {}
  },
  {
   "cell_type": "code",
   "execution_count": 15,
   "metadata": {
    "tags": []
   },
   "outputs": [],
   "source": [
    "X = []\n",
    "y = []\n",
    "\n",
    "for a,b,c in edges:\n",
    "    X.append([a,b])\n",
    "    y.append(c)"
   ]
  },
  {
   "cell_type": "code",
   "execution_count": 16,
   "metadata": {},
   "outputs": [
    {
     "output_type": "execute_result",
     "data": {
      "text/plain": [
       "64140"
      ]
     },
     "metadata": {},
     "execution_count": 16
    }
   ],
   "source": [
    "len(X)"
   ]
  },
  {
   "cell_type": "code",
   "execution_count": 17,
   "metadata": {},
   "outputs": [
    {
     "output_type": "execute_result",
     "data": {
      "text/plain": [
       "64140"
      ]
     },
     "metadata": {},
     "execution_count": 17
    }
   ],
   "source": [
    "len(y)"
   ]
  },
  {
   "cell_type": "code",
   "execution_count": 18,
   "metadata": {},
   "outputs": [],
   "source": [
    "X = np.array(X)\n",
    "y = np.array(y)"
   ]
  },
  {
   "cell_type": "code",
   "execution_count": 19,
   "metadata": {},
   "outputs": [
    {
     "output_type": "stream",
     "name": "stdout",
     "text": [
      "Training set has 44898 instances. Test set has 19242 instances.\n"
     ]
    }
   ],
   "source": [
    "from sklearn.model_selection import train_test_split\n",
    "X_train, X_test, y_train, y_test = train_test_split(X, y, test_size = 0.3, random_state = 90051)\n",
    "print(\"Training set has {} instances. Test set has {} instances.\".format(X_train.shape[0], X_test.shape[0]))"
   ]
  },
  {
   "cell_type": "code",
   "execution_count": 20,
   "metadata": {},
   "outputs": [],
   "source": [
    "from sklearn.preprocessing import StandardScaler\n",
    "sc = StandardScaler()\n",
    "X_train = sc.fit_transform(X_train)\n",
    "X_test = sc.transform(X_test)"
   ]
  },
  {
   "source": [
    "### Build model"
   ],
   "cell_type": "markdown",
   "metadata": {}
  },
  {
   "cell_type": "code",
   "execution_count": 21,
   "metadata": {},
   "outputs": [
    {
     "output_type": "execute_result",
     "data": {
      "text/plain": [
       "LogisticRegression(C=10000.0)"
      ]
     },
     "metadata": {},
     "execution_count": 21
    }
   ],
   "source": [
    "from sklearn import linear_model\n",
    "lr = linear_model.LogisticRegression(C=1e4,penalty='l2')\n",
    "lr.fit(X_train,y_train)"
   ]
  },
  {
   "cell_type": "code",
   "execution_count": 22,
   "metadata": {},
   "outputs": [
    {
     "output_type": "stream",
     "name": "stdout",
     "text": [
      "acc:  0.49542667082423864\n",
      "auc:  0.49912865282168084\n"
     ]
    }
   ],
   "source": [
    "from sklearn.metrics import roc_auc_score\n",
    "pred = lr.predict_proba(X_test)\n",
    "y_pred = [p[1] for p in pred]\n",
    "acc=lr.score(X_test,y_test)\n",
    "print(\"acc: \", acc)\n",
    "auc=roc_auc_score(y_test,y_pred)\n",
    "print(\"auc: \", auc)"
   ]
  },
  {
   "cell_type": "code",
   "execution_count": null,
   "metadata": {},
   "outputs": [],
   "source": []
  }
 ]
}